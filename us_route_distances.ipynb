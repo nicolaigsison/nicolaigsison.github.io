{
 "cells": [
  {
   "cell_type": "code",
   "execution_count": 24,
   "metadata": {},
   "outputs": [],
   "source": [
    "# Check Python Version Number\n",
    "from platform import python_version\n",
    "python_version()\n",
    "\n",
    "# Imports\n",
    "import pandas as pd\n",
    "import numpy as np\n",
    "import requests\n",
    "import folium\n",
    "import polyline\n",
    "import osrm\n",
    "import aiohttp\n",
    "import pgeocode\n",
    "from geopy.distance import great_circle\n",
    "from pyzipcode import ZipCodeDatabase\n",
    "nomi = pgeocode.Nominatim('US')\n",
    "\n",
    "# Installations\n",
    "# %pip install GDAL-3.4.3-cp38-cp38-win_amd64.whl\n",
    "# %pip install --upgrade git+https://github.com/ustroetz/python-osrm.git \n",
    "# https://githubmemory.com/repo/ustroetz/python-osrm/issues/40 # Debugging\n",
    "# print(osrm.__file__) # filepath"
   ]
  },
  {
   "cell_type": "code",
   "execution_count": 25,
   "metadata": {},
   "outputs": [],
   "source": [
    "class US_Route_Distances:\n",
    "    # Read in data as pandas DataFrame\n",
    "    def __init__(self, filepath, filename):\n",
    "        self.df = pd.read_excel(filepath + '\\\\' + filename + '.xlsx', dtype=str)\n",
    "    \n",
    "    # Adds latitude and longitude coordinates to each O-D pair combination via zip code query\n",
    "    def lat_long(self, zip_cols, coord_cols):\n",
    "        orig_lat, orig_long, dest_lat, dest_long = [], [], [], []\n",
    "        for index, value in self.df.iterrows():\n",
    "            orig_lat.append(nomi.query_postal_code(self.df[zip_cols[0]][index])[9])\n",
    "            orig_long.append(nomi.query_postal_code(self.df[zip_cols[0]][index])[10])\n",
    "            dest_lat.append(nomi.query_postal_code(self.df[zip_cols[1]][index])[9])\n",
    "            dest_long.append(nomi.query_postal_code(self.df[zip_cols[1]][index])[10])\n",
    "        self.df[coord_cols[0]], self.df[coord_cols[1]], self.df[coord_cols[2]], self.df[coord_cols[3]] = orig_lat, orig_long, dest_lat, dest_long\n",
    "        self.df.dropna(how='any', inplace=True)\n",
    "        return self.df\n",
    "    \n",
    "    # Adds straight-line distance (pygeocode) and actual road miles (OSRM) via lat/long coordinates\n",
    "    def us_distances(self, coord_cols):\n",
    "        road_miles, straightline_dist = [], []\n",
    "        for index, value in self.df.iterrows():\n",
    "            origin_lat, origin_long, dest_lat, dest_long = self.df[coord_cols[0]][index], self.df[coord_cols[1]][index], self.df[coord_cols[2]][index], self.df[coord_cols[3]][index]\n",
    "            url = \"http://router.project-osrm.org/route/v1/driving/\" + str(origin_long) + \",\" + str(origin_lat) + \";\" + str(dest_long) + \",\" + str(dest_lat) + '?overview=false'\n",
    "            r = requests.get(url)\n",
    "            res = r.json()\n",
    "            if res['code'] == 'Ok':\n",
    "                road_miles.append(round(res['routes'][0]['distance']/1609.344, 2))\n",
    "            else: road_miles.append(res['code'])\n",
    "            straightline_dist.append(round(great_circle((origin_lat, origin_long), (dest_lat, dest_long)).miles, 2))\n",
    "        self.df[\"Straight-Line Distance\"], self.df[\"Road Miles\"] = straightline_dist, road_miles\n",
    "        return self.df\n",
    "\n",
    "    # Export results to .xlsx file\n",
    "    def get_results(self, filepath, filename):\n",
    "        self.df = self.df.applymap(lambda x: x.strip() if isinstance(x, str) else x)\n",
    "        self.df.to_excel(filepath + '\\\\' + filename + '.xlsx', index=False)"
   ]
  },
  {
   "cell_type": "code",
   "execution_count": null,
   "metadata": {},
   "outputs": [],
   "source": [
    "# Run US_Route_Distances class\n",
    "filepath = r'filepath'\n",
    "zip_cols, coord_cols = ['Origin Zip', 'Destination Zip'], ['Origin Latitude', 'Origin Longitude', 'Destination Latitude', 'Destination Longitude']\n",
    "test = US_Route_Distances(filepath, 'input_filename')\n",
    "test.lat_long(zip_cols, coord_cols)\n",
    "test.us_distances(coord_cols)\n",
    "test.get_results(filepath, 'output_filename')"
   ]
  },
  {
   "cell_type": "code",
   "execution_count": null,
   "metadata": {},
   "outputs": [],
   "source": [
    "# Example from Canton, GA to Tampa, FL\n",
    "url = 'http://router.project-osrm.org/route/v1/driving/-84.5012,34.2746;-82.7671,28.1437?overview=false'\n",
    "r = requests.get(url)\n",
    "res = r.json()\n",
    "res"
   ]
  }
 ],
 "metadata": {
  "kernelspec": {
   "display_name": "Python 3.8.8 ('base')",
   "language": "python",
   "name": "python3"
  },
  "language_info": {
   "codemirror_mode": {
    "name": "ipython",
    "version": 3
   },
   "file_extension": ".py",
   "mimetype": "text/x-python",
   "name": "python",
   "nbconvert_exporter": "python",
   "pygments_lexer": "ipython3",
   "version": "3.8.8"
  },
  "orig_nbformat": 4,
  "vscode": {
   "interpreter": {
    "hash": "6685d47b70da18663919a74b0de78347883f255add582b5c257d896ff7eb129e"
   }
  }
 },
 "nbformat": 4,
 "nbformat_minor": 2
}
